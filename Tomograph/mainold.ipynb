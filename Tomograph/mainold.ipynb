{
 "cells": [
  {
   "cell_type": "code",
   "execution_count": 15,
   "id": "abc6ab5a",
   "metadata": {
    "pycharm": {
     "name": "#%%\n"
    }
   },
   "outputs": [],
   "source": [
    "#Importy\n",
    "import JpgToSin\n",
    "import SinToJpg\n",
    "import numpy as np\n",
    "import cv2\n",
    "import math\n",
    "from matplotlib import pyplot as plt\n",
    "from datetime import datetime\n",
    "from skimage.transform import resize\n",
    "from skimage.io import imread\n",
    "#Zdefiniowane klasy\n",
    "class Tomograph:\n",
    "    def __init__(self, iterations, step, detector_num, detector_rng, isFilter, isDicom, source, patient, descript):\n",
    "        self.iterations = iterations\n",
    "        self.step = step\n",
    "        self.detector_num = detector_num\n",
    "        self.detector_rng = detector_rng\n",
    "        self.isFilter = isFilter\n",
    "        self.isDicom = isDicom\n",
    "        self.source = source\n",
    "\n",
    "        self.original = []\n",
    "        self.input_image = []\n",
    "        self.reverses = []\n",
    "        self.sinograms = []\n",
    "\n",
    "        self.patient = \"Karol Okrasa\"\n",
    "        self.descript = \"description\"\n",
    "        self.date = datetime.now()\n",
    "\n",
    "    def main(self):\n",
    "        image = cv2.cvtColor(imread(self.source), cv2.COLOR_RGBA2GRAY)\n",
    "        self.original = np.copy(image)\n",
    "        resized = resize(image, (round(len(image) / 4), round(len(image[0]) / 4)))\n",
    "        new_edge = round(math.sqrt(2) * max(len(resized), len(resized[0])))\n",
    "        radius = round(new_edge / 2)\n",
    "\n",
    "        image = np.zeros([new_edge, new_edge])\n",
    "        image[radius - round(len(resized) / 2) : radius + round(len(resized) / 2), radius - round(len(resized[0]) / 2) : radius + round(len(resized[0]) / 2)] = resized\n",
    "        self.input_image = image\n",
    "        dims = [len(image), len(image[0])]\n",
    "        #Make sinogram\n",
    "        sin = JpgToSin.Sinogram()\n",
    "        sin.makeSinogram(image, self.iterations, self.step, self.detector_num, self.detector_rng)\n",
    "\n",
    "        #make reverse\n",
    "        rvr = SinToJpg.Reversed()\n",
    "        rvr.makeReversed(sin.sinograms[-1], self.iterations, self.step, self.detector_num, self.detector_rng,dims, self.input_image)\n",
    "\n",
    "        fig, plots = plt.subplots(1, 3)\n",
    "        plots[0].imshow(self.original, cmap='gray')\n",
    "        plots[1].imshow(sin.sinograms[-1], cmap='gray')\n",
    "        plots[2].imshow(rvr.reverse_sinograms[-1], cmap='gray')\n",
    "        #make_reverse_sinogram(sinograms[-1], [len(image), len(image[0])])\n",
    "\n",
    "        #display_images(image, sinograms[-1], reverses[-1])\n"
   ]
  },
  {
   "cell_type": "code",
   "execution_count": 23,
   "id": "a909cfec",
   "metadata": {
    "pycharm": {
     "is_executing": true,
     "name": "#%%\n"
    }
   },
   "outputs": [
    {
     "name": "stdout",
     "output_type": "stream",
     "text": [
      "[141, 141]\n"
     ]
    },
    {
     "ename": "IndexError",
     "evalue": "index 358 is out of bounds for axis 0 with size 141",
     "output_type": "error",
     "traceback": [
      "\u001B[1;31m---------------------------------------------------------------------------\u001B[0m",
      "\u001B[1;31mIndexError\u001B[0m                                Traceback (most recent call last)",
      "\u001B[1;32m~\\AppData\\Local\\Temp\\ipykernel_14076\\763099641.py\u001B[0m in \u001B[0;36m<module>\u001B[1;34m\u001B[0m\n\u001B[0;32m     12\u001B[0m \u001B[0mtomograph\u001B[0m \u001B[1;33m=\u001B[0m \u001B[0mTomograph\u001B[0m\u001B[1;33m(\u001B[0m\u001B[0miterations\u001B[0m\u001B[1;33m,\u001B[0m \u001B[0mstep\u001B[0m\u001B[1;33m,\u001B[0m \u001B[0mdetector_num\u001B[0m\u001B[1;33m,\u001B[0m \u001B[0mdetector_rng\u001B[0m\u001B[1;33m,\u001B[0m \u001B[0misFilter\u001B[0m\u001B[1;33m,\u001B[0m \u001B[0misDicom\u001B[0m\u001B[1;33m,\u001B[0m \u001B[0msource\u001B[0m\u001B[1;33m,\u001B[0m \u001B[0mpatient\u001B[0m\u001B[1;33m,\u001B[0m \u001B[0mdescript\u001B[0m\u001B[1;33m)\u001B[0m\u001B[1;33m\u001B[0m\u001B[1;33m\u001B[0m\u001B[0m\n\u001B[0;32m     13\u001B[0m \u001B[1;33m\u001B[0m\u001B[0m\n\u001B[1;32m---> 14\u001B[1;33m \u001B[0mtomograph\u001B[0m\u001B[1;33m.\u001B[0m\u001B[0mmain\u001B[0m\u001B[1;33m(\u001B[0m\u001B[1;33m)\u001B[0m\u001B[1;33m\u001B[0m\u001B[1;33m\u001B[0m\u001B[0m\n\u001B[0m",
      "\u001B[1;32m~\\AppData\\Local\\Temp\\ipykernel_14076\\4285294552.py\u001B[0m in \u001B[0;36mmain\u001B[1;34m(self)\u001B[0m\n\u001B[0;32m     46\u001B[0m         \u001B[1;31m#make reverse\u001B[0m\u001B[1;33m\u001B[0m\u001B[1;33m\u001B[0m\u001B[1;33m\u001B[0m\u001B[0m\n\u001B[0;32m     47\u001B[0m         \u001B[0mrvr\u001B[0m \u001B[1;33m=\u001B[0m \u001B[0mSinToJpg\u001B[0m\u001B[1;33m.\u001B[0m\u001B[0mReversed\u001B[0m\u001B[1;33m(\u001B[0m\u001B[1;33m)\u001B[0m\u001B[1;33m\u001B[0m\u001B[1;33m\u001B[0m\u001B[0m\n\u001B[1;32m---> 48\u001B[1;33m         \u001B[0mrvr\u001B[0m\u001B[1;33m.\u001B[0m\u001B[0mmakeReversed\u001B[0m\u001B[1;33m(\u001B[0m\u001B[0msin\u001B[0m\u001B[1;33m.\u001B[0m\u001B[0msinograms\u001B[0m\u001B[1;33m[\u001B[0m\u001B[1;33m-\u001B[0m\u001B[1;36m1\u001B[0m\u001B[1;33m]\u001B[0m\u001B[1;33m,\u001B[0m \u001B[0mself\u001B[0m\u001B[1;33m.\u001B[0m\u001B[0miterations\u001B[0m\u001B[1;33m,\u001B[0m \u001B[0mself\u001B[0m\u001B[1;33m.\u001B[0m\u001B[0mstep\u001B[0m\u001B[1;33m,\u001B[0m \u001B[0mself\u001B[0m\u001B[1;33m.\u001B[0m\u001B[0mdetector_num\u001B[0m\u001B[1;33m,\u001B[0m \u001B[0mself\u001B[0m\u001B[1;33m.\u001B[0m\u001B[0mdetector_rng\u001B[0m\u001B[1;33m,\u001B[0m\u001B[0mdims\u001B[0m\u001B[1;33m,\u001B[0m \u001B[0mself\u001B[0m\u001B[1;33m.\u001B[0m\u001B[0minput_image\u001B[0m\u001B[1;33m)\u001B[0m\u001B[1;33m\u001B[0m\u001B[1;33m\u001B[0m\u001B[0m\n\u001B[0m\u001B[0;32m     49\u001B[0m \u001B[1;33m\u001B[0m\u001B[0m\n\u001B[0;32m     50\u001B[0m         \u001B[0mfig\u001B[0m\u001B[1;33m,\u001B[0m \u001B[0mplots\u001B[0m \u001B[1;33m=\u001B[0m \u001B[0mplt\u001B[0m\u001B[1;33m.\u001B[0m\u001B[0msubplots\u001B[0m\u001B[1;33m(\u001B[0m\u001B[1;36m1\u001B[0m\u001B[1;33m,\u001B[0m \u001B[1;36m3\u001B[0m\u001B[1;33m)\u001B[0m\u001B[1;33m\u001B[0m\u001B[1;33m\u001B[0m\u001B[0m\n",
      "\u001B[1;32mE:\\A-Semestr6\\informatyka w medycynie\\Tomogram-tobiasz\\IWM-Projects\\Tomograph\\SinToJpg.py\u001B[0m in \u001B[0;36mmakeReversed\u001B[1;34m(self, img, iterations, step, detector_num, detector_rng, dimensions, input_img)\u001B[0m\n\u001B[0;32m     20\u001B[0m                 \u001B[0mline\u001B[0m \u001B[1;33m=\u001B[0m \u001B[0mBresenham\u001B[0m\u001B[1;33m.\u001B[0m\u001B[0mBresenhamLine\u001B[0m\u001B[1;33m(\u001B[0m\u001B[0meX\u001B[0m\u001B[1;33m,\u001B[0m \u001B[0meY\u001B[0m\u001B[1;33m,\u001B[0m \u001B[0mdX\u001B[0m\u001B[1;33m,\u001B[0m \u001B[0mdY\u001B[0m\u001B[1;33m)\u001B[0m\u001B[1;33m\u001B[0m\u001B[1;33m\u001B[0m\u001B[0m\n\u001B[0;32m     21\u001B[0m                 \u001B[1;32mfor\u001B[0m \u001B[0mx\u001B[0m\u001B[1;33m,\u001B[0m \u001B[0my\u001B[0m \u001B[1;32min\u001B[0m \u001B[0mline\u001B[0m\u001B[1;33m:\u001B[0m\u001B[1;33m\u001B[0m\u001B[1;33m\u001B[0m\u001B[0m\n\u001B[1;32m---> 22\u001B[1;33m                     \u001B[0mreverse_sinogram\u001B[0m\u001B[1;33m[\u001B[0m\u001B[0mx\u001B[0m\u001B[1;33m,\u001B[0m \u001B[0my\u001B[0m\u001B[1;33m]\u001B[0m \u001B[1;33m+=\u001B[0m \u001B[0mimg\u001B[0m\u001B[1;33m[\u001B[0m\u001B[0mi\u001B[0m\u001B[1;33m,\u001B[0m \u001B[0mj\u001B[0m\u001B[1;33m]\u001B[0m\u001B[1;33m\u001B[0m\u001B[1;33m\u001B[0m\u001B[0m\n\u001B[0m\u001B[0;32m     23\u001B[0m             reverse = reverse_sinogram[round(len(input_img) / 4): 3 * round(len(input_img) / 4),\n\u001B[0;32m     24\u001B[0m                       round(len(input_img[0]) / 4): 3 * round(len(input_img[0]) / 4)]\n",
      "\u001B[1;31mIndexError\u001B[0m: index 358 is out of bounds for axis 0 with size 141"
     ]
    }
   ],
   "source": [
    "#GUI\n",
    "iterations = 360\n",
    "step = 1\n",
    "detector_num = 90\n",
    "detector_rng = 90\n",
    "isFilter = False\n",
    "isDicom = False\n",
    "source = \"Zdjecia/Z_doca/Shepp_logan.jpg\"\n",
    "patient = \"\"\n",
    "descript = \"\"\n",
    "\n",
    "tomograph = Tomograph(iterations, step, detector_num, detector_rng, isFilter, isDicom, source, patient, descript)\n",
    "\n",
    "tomograph.main()"
   ]
  },
  {
   "cell_type": "code",
   "execution_count": null,
   "id": "28b7665d",
   "metadata": {
    "pycharm": {
     "is_executing": true
    }
   },
   "outputs": [],
   "source": []
  },
  {
   "cell_type": "code",
   "execution_count": null,
   "id": "16d2a346",
   "metadata": {},
   "outputs": [],
   "source": []
  }
 ],
 "metadata": {
  "kernelspec": {
   "display_name": "Python 3 (ipykernel)",
   "language": "python",
   "name": "python3"
  },
  "language_info": {
   "codemirror_mode": {
    "name": "ipython",
    "version": 3
   },
   "file_extension": ".py",
   "mimetype": "text/x-python",
   "name": "python",
   "nbconvert_exporter": "python",
   "pygments_lexer": "ipython3",
   "version": "3.7.4"
  }
 },
 "nbformat": 4,
 "nbformat_minor": 5
}